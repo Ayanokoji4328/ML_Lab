{
  "nbformat": 4,
  "nbformat_minor": 0,
  "metadata": {
    "colab": {
      "provenance": [],
      "authorship_tag": "ABX9TyPE8Gzbex8Y+5d8N4Ot7fvD"
    },
    "kernelspec": {
      "name": "python3",
      "display_name": "Python 3"
    },
    "language_info": {
      "name": "python"
    }
  },
  "cells": [
    {
      "cell_type": "code",
      "execution_count": 1,
      "metadata": {
        "colab": {
          "base_uri": "https://localhost:8080/"
        },
        "id": "lMQW-NiduxuY",
        "outputId": "3bde0c77-6821-4507-a528-26def5843be2"
      },
      "outputs": [
        {
          "output_type": "stream",
          "name": "stdout",
          "text": [
            "Data: [5, 10, 15, 20, 25, 30]\n",
            "Mean:  17.5\n",
            "Median:  17.5\n",
            "Mode:  5\n",
            "Standard Deviation:  9.354143466934854\n",
            "Variance:  87.5\n"
          ]
        }
      ],
      "source": [
        "import statistics as stats\n",
        "a = [5, 10, 15, 20, 25, 30]\n",
        "mean = stats.mean(a)\n",
        "median = stats.median(a)\n",
        "mode = stats.mode(a)\n",
        "st_dev = stats.stdev(a)\n",
        "variance = stats.variance(a)\n",
        "print(\"Data:\",a)\n",
        "print(\"Mean: \", mean)\n",
        "print(\"Median: \", median)\n",
        "print(\"Mode: \", mode)\n",
        "print(\"Standard Deviation: \", st_dev)\n",
        "print(\"Variance: \", variance)"
      ]
    },
    {
      "cell_type": "code",
      "source": [
        "import math\n",
        "print(\"Square root of 49:\", math.sqrt(49))\n",
        "print(\"Factorial of 5:\", math.factorial(5))\n",
        "print(\"Log of 22:\", math.log(22))\n",
        "print(\"Value of sin 45:\", math.sin(45))\n",
        "print(\"Value of cos 45:\", math.cos(45))"
      ],
      "metadata": {
        "colab": {
          "base_uri": "https://localhost:8080/"
        },
        "id": "5evWmhVavZzh",
        "outputId": "5cfe1d4b-25bb-4673-ebbd-e953edbe6192"
      },
      "execution_count": 3,
      "outputs": [
        {
          "output_type": "stream",
          "name": "stdout",
          "text": [
            "Square root of 49: 7.0\n",
            "Factorial of 5: 120\n",
            "Log of 22: 3.091042453358316\n",
            "Value of sin 45: 0.8509035245341184\n",
            "Value of cos 45: 0.5253219888177297\n"
          ]
        }
      ]
    },
    {
      "cell_type": "code",
      "source": [
        "import numpy as np\n",
        "a = [2, 4, 6, 8, 10]\n",
        "b = [5, 10, 15, 20, 25]\n",
        "addition = np.add(a, b)\n",
        "subtraction = np.subtract(a, b)\n",
        "multiplication = np.multiply(a, b)\n",
        "division = np.divide(a, b)\n",
        "print(\"a:\", a)\n",
        "print(\"b:\", b)\n",
        "print(\"addition:\", addition)\n",
        "print(\"subtraction:\", subtraction)\n",
        "print(\"multiplication:\", multiplication)\n",
        "print(\"division:\", division)"
      ],
      "metadata": {
        "colab": {
          "base_uri": "https://localhost:8080/"
        },
        "id": "fk31-jpDv0qi",
        "outputId": "5340ecd4-e1ef-49e5-d9a2-0914da22ed53"
      },
      "execution_count": 4,
      "outputs": [
        {
          "output_type": "stream",
          "name": "stdout",
          "text": [
            "a: [2, 4, 6, 8, 10]\n",
            "b: [5, 10, 15, 20, 25]\n",
            "addition: [ 7 14 21 28 35]\n",
            "subtraction: [ -3  -6  -9 -12 -15]\n",
            "multiplication: [ 10  40  90 160 250]\n",
            "division: [0.4 0.4 0.4 0.4 0.4]\n"
          ]
        }
      ]
    },
    {
      "cell_type": "code",
      "source": [
        "import matplotlib.pyplot as plt\n",
        "x = [1, 2, 3, 4, 5]\n",
        "y = [2, 4, 6, 8, 10]\n",
        "plt.plot(x, y, marker='o', linestyle='--', color='green')\n",
        "plt.xlabel(\"X-axis\")\n",
        "plt.ylabel(\"Y-axis\")\n",
        "plt.title(\"Line Plot\")\n",
        "plt.show()"
      ],
      "metadata": {
        "colab": {
          "base_uri": "https://localhost:8080/",
          "height": 472
        },
        "id": "PsG6mrmQwXNm",
        "outputId": "d150a1a4-ec73-497b-a745-1a4bd521fb78"
      },
      "execution_count": 5,
      "outputs": [
        {
          "output_type": "display_data",
          "data": {
            "text/plain": [
              "<Figure size 640x480 with 1 Axes>"
            ],
            "image/png": "[encoded data removed]"
          },
          "metadata": {}
        }
      ]
    },
    {
      "cell_type": "code",
      "source": [
        "from scipy import stats\n",
        "import numpy as np\n",
        "data = np.array([1, 5, 2, 8, 3, 9, 4, 7, 6, 10])\n",
        "mean = stats.tmean(data)\n",
        "median = np.median(data)\n",
        "mode, count = stats.mode(data)\n",
        "var = stats.tvar(data)\n",
        "std = stats.tstd(data)\n",
        "print(\"Data:\", data)\n",
        "print(\"Mean:\", mean)\n",
        "print(\"Median:\", median)\n",
        "print(\"Mode:\", mode)\n",
        "print(\"Variance:\", var)\n",
        "print(\"Standard Deviation:\", std)"
      ],
      "metadata": {
        "colab": {
          "base_uri": "https://localhost:8080/"
        },
        "id": "c2n3fOxKwoXK",
        "outputId": "a923b566-bc19-4684-c493-ce5cdf1967e1"
      },
      "execution_count": 9,
      "outputs": [
        {
          "output_type": "stream",
          "name": "stdout",
          "text": [
            "Data: [ 1  5  2  8  3  9  4  7  6 10]\n",
            "Mean: 5.5\n",
            "Median: 5.5\n",
            "Mode: 1\n",
            "Variance: 9.166666666666668\n",
            "Standard Deviation: 3.0276503540974917\n"
          ]
        }
      ]
    }
  ]
}